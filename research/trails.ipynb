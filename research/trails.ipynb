{
 "cells": [
  {
   "cell_type": "markdown",
   "id": "b66aa5bc",
   "metadata": {},
   "source": [
    "## Download the data from GDrive"
   ]
  },
  {
   "cell_type": "code",
   "execution_count": 3,
   "id": "f90bed22",
   "metadata": {},
   "outputs": [],
   "source": [
    "import gdown\n",
    "url=\"https://drive.google.com/file/d/1vlhZ5c7abUKF8xXERIw6m9Te8fW7ohw3/view?usp=sharing\""
   ]
  },
  {
   "cell_type": "code",
   "execution_count": 7,
   "id": "dd78b5aa",
   "metadata": {},
   "outputs": [
    {
     "data": {
      "text/plain": [
       "'1vlhZ5c7abUKF8xXERIw6m9Te8fW7ohw3'"
      ]
     },
     "execution_count": 7,
     "metadata": {},
     "output_type": "execute_result"
    }
   ],
   "source": [
    "file_id = url.split(\"/\")[-2]\n",
    "file_id"
   ]
  },
  {
   "cell_type": "code",
   "execution_count": 8,
   "id": "890ff1f1",
   "metadata": {},
   "outputs": [
    {
     "name": "stderr",
     "output_type": "stream",
     "text": [
      "[ 2025-06-21 20:37:50,520 ] urllib3.connectionpool - DEBUG - Starting new HTTPS connection (1): drive.google.com:443\n",
      "[ 2025-06-21 20:37:52,081 ] urllib3.connectionpool - DEBUG - https://drive.google.com:443 \"GET /uc?/export=download&id=1vlhZ5c7abUKF8xXERIw6m9Te8fW7ohw3 HTTP/1.1\" 200 None\n",
      "[ 2025-06-21 20:37:52,541 ] urllib3.connectionpool - DEBUG - https://drive.google.com:443 \"GET /uc?%2Fexport=download&id=1vlhZ5c7abUKF8xXERIw6m9Te8fW7ohw3&confirm=t&uuid=5a3af521-fb9c-4176-8ee3-e5e1581e37db HTTP/1.1\" 303 0\n",
      "[ 2025-06-21 20:37:52,545 ] urllib3.connectionpool - DEBUG - Starting new HTTPS connection (1): doc-0g-3k-docs.googleusercontent.com:443\n",
      "[ 2025-06-21 20:37:54,282 ] urllib3.connectionpool - DEBUG - https://doc-0g-3k-docs.googleusercontent.com:443 \"GET /docs/securesc/ha0ro937gcuc7l7deffksulhg5h7mbp1/2u57cdme5f8v939umninuj833dabuppm/1750518450000/03596185573253187741/*/1vlhZ5c7abUKF8xXERIw6m9Te8fW7ohw3?uuid=5a3af521-fb9c-4176-8ee3-e5e1581e37db HTTP/1.1\" 200 57713952\n",
      "Downloading...\n",
      "From (original): https://drive.google.com/uc?/export=download&id=1vlhZ5c7abUKF8xXERIw6m9Te8fW7ohw3\n",
      "From (redirected): https://drive.google.com/uc?%2Fexport=download&id=1vlhZ5c7abUKF8xXERIw6m9Te8fW7ohw3&confirm=t&uuid=5a3af521-fb9c-4176-8ee3-e5e1581e37db\n",
      "To: c:\\Users\\ASUS\\Desktop\\ML-OPs\\Kidney-Disease-Classification\\research\\Kidney-CT-Scan-data.zip\n",
      "100%|██████████| 57.7M/57.7M [00:35<00:00, 1.63MB/s]\n"
     ]
    },
    {
     "data": {
      "text/plain": [
       "'Kidney-CT-Scan-data.zip'"
      ]
     },
     "execution_count": 8,
     "metadata": {},
     "output_type": "execute_result"
    }
   ],
   "source": [
    "prefix = 'https://drive.google.com/uc?/export=download&id='\n",
    "gdown.download(prefix+file_id, \"Kidney-CT-Scan-data.zip\")"
   ]
  },
  {
   "cell_type": "code",
   "execution_count": 7,
   "id": "8f9b8c7f",
   "metadata": {},
   "outputs": [
    {
     "name": "stderr",
     "output_type": "stream",
     "text": [
      "[ 2025-06-22 13:57:01,877 ] root - INFO - Created directory at: ./artifacts\n"
     ]
    },
    {
     "name": "stdout",
     "output_type": "stream",
     "text": [
      "hello\n"
     ]
    }
   ],
   "source": [
    "from cnnClassifier.utils.common import create_directories\n",
    "create_directories([\"./artifacts\"])"
   ]
  },
  {
   "cell_type": "code",
   "execution_count": 2,
   "id": "414a5798",
   "metadata": {},
   "outputs": [
    {
     "data": {
      "text/plain": [
       "'c:\\\\Users\\\\ASUS\\\\Desktop\\\\ML-OPs\\\\Kidney-Disease-Classification\\\\research'"
      ]
     },
     "execution_count": 2,
     "metadata": {},
     "output_type": "execute_result"
    }
   ],
   "source": [
    "%pwd"
   ]
  },
  {
   "cell_type": "code",
   "execution_count": 3,
   "id": "bb89ebe0",
   "metadata": {},
   "outputs": [
    {
     "data": {
      "text/plain": [
       "'c:\\\\Users\\\\ASUS\\\\Desktop\\\\ML-OPs\\\\Kidney-Disease-Classification'"
      ]
     },
     "execution_count": 3,
     "metadata": {},
     "output_type": "execute_result"
    }
   ],
   "source": [
    "import os\n",
    "os.chdir(\"c:/Users/ASUS/Desktop/ML-OPs/Kidney-Disease-Classification\")\n",
    "%pwd"
   ]
  },
  {
   "cell_type": "code",
   "execution_count": 13,
   "id": "1bd5d0a3",
   "metadata": {},
   "outputs": [
    {
     "name": "stderr",
     "output_type": "stream",
     "text": [
      "[ 2025-06-22 14:09:14,502 ] root - INFO - Created directory at: ./artifacts\n"
     ]
    },
    {
     "name": "stdout",
     "output_type": "stream",
     "text": [
      "hello\n"
     ]
    }
   ],
   "source": [
    "from cnnClassifier.utils.common import create_directories\n",
    "create_directories([\"./artifacts\"])"
   ]
  },
  {
   "cell_type": "code",
   "execution_count": 12,
   "id": "be42439f",
   "metadata": {},
   "outputs": [
    {
     "name": "stderr",
     "output_type": "stream",
     "text": [
      "[ 2025-06-22 14:03:40,412 ] root - INFO - Created directory at: ./hello\n"
     ]
    },
    {
     "name": "stdout",
     "output_type": "stream",
     "text": [
      "hello\n"
     ]
    }
   ],
   "source": [
    "from cnnClassifier.utils.common import create_directories\n",
    "create_directories([\"./hello\"])"
   ]
  },
  {
   "cell_type": "code",
   "execution_count": null,
   "id": "8dedf970",
   "metadata": {},
   "outputs": [],
   "source": []
  },
  {
   "cell_type": "code",
   "execution_count": null,
   "id": "c032b5b4",
   "metadata": {},
   "outputs": [],
   "source": []
  }
 ],
 "metadata": {
  "kernelspec": {
   "display_name": "kidney",
   "language": "python",
   "name": "python3"
  },
  "language_info": {
   "codemirror_mode": {
    "name": "ipython",
    "version": 3
   },
   "file_extension": ".py",
   "mimetype": "text/x-python",
   "name": "python",
   "nbconvert_exporter": "python",
   "pygments_lexer": "ipython3",
   "version": "3.10.18"
  }
 },
 "nbformat": 4,
 "nbformat_minor": 5
}
