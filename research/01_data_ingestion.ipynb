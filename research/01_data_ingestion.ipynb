{
 "cells": [
  {
   "cell_type": "code",
   "execution_count": 1,
   "id": "4e317549",
   "metadata": {},
   "outputs": [],
   "source": [
    "import os"
   ]
  },
  {
   "cell_type": "code",
   "execution_count": 2,
   "id": "7e8bc27e",
   "metadata": {},
   "outputs": [
    {
     "name": "stdout",
     "output_type": "stream",
     "text": [
      "c:\\Users\\ASUS\\Desktop\\ML-OPs\\Kidney-Disease-Classification\\research\n"
     ]
    }
   ],
   "source": [
    "print(os.getcwd())"
   ]
  },
  {
   "cell_type": "code",
   "execution_count": 3,
   "id": "12608cb9",
   "metadata": {},
   "outputs": [
    {
     "data": {
      "text/plain": [
       "'c:\\\\Users\\\\ASUS\\\\Desktop\\\\ML-OPs\\\\Kidney-Disease-Classification'"
      ]
     },
     "execution_count": 3,
     "metadata": {},
     "output_type": "execute_result"
    }
   ],
   "source": [
    "os.chdir(\"c:/Users/ASUS/Desktop/ML-OPs/Kidney-Disease-Classification\")\n",
    "%pwd"
   ]
  },
  {
   "cell_type": "code",
   "execution_count": 4,
   "id": "2aaf939d",
   "metadata": {},
   "outputs": [],
   "source": [
    "from dataclasses import dataclass\n",
    "from pathlib import Path\n",
    "\n",
    "@dataclass(frozen=True)\n",
    "class DataIngestionConfig:\n",
    "    root_dir: Path\n",
    "    source_url: str\n",
    "    local_data_file: Path\n",
    "    unzip_dir: Path"
   ]
  },
  {
   "cell_type": "code",
   "execution_count": 5,
   "id": "4206ed0f",
   "metadata": {},
   "outputs": [],
   "source": [
    "from cnnClassifier.constants import *\n",
    "from cnnClassifier.utils.common import read_yaml, create_directories"
   ]
  },
  {
   "cell_type": "code",
   "execution_count": 6,
   "id": "2443dba8",
   "metadata": {},
   "outputs": [],
   "source": [
    "class ConfigurationManager:\n",
    "    def __init__(self,\n",
    "                 config_filepath: Path = CONFIG_FILE_PATH,\n",
    "                 params_filepath: Path = PARAMS_FILE_PATH):\n",
    "        \n",
    "        self.config = read_yaml(config_filepath)\n",
    "        self.params = read_yaml(params_filepath)\n",
    "\n",
    "        create_directories([self.config.artifact_root])\n",
    "    \n",
    "    def get_data_ingestion_config(self) -> DataIngestionConfig:\n",
    "        config = self.config.data_ingestion\n",
    "\n",
    "        create_directories([config.root_dir])\n",
    "\n",
    "        data_ingestion_config = DataIngestionConfig(\n",
    "            root_dir=config.root_dir,\n",
    "            source_url=config.source_url,\n",
    "            local_data_file=config.local_data_file,\n",
    "            unzip_dir=config.unzip_dir\n",
    "        )\n",
    "\n",
    "        return data_ingestion_config"
   ]
  },
  {
   "cell_type": "code",
   "execution_count": 7,
   "id": "adcb7ed2",
   "metadata": {},
   "outputs": [],
   "source": [
    "import os\n",
    "import sys\n",
    "import zipfile\n",
    "import gdown\n",
    "from cnnClassifier import logging\n",
    "from cnnClassifier.utils.common import get_size\n",
    "from cnnClassifier import MyException"
   ]
  },
  {
   "cell_type": "code",
   "execution_count": 8,
   "id": "fe34c380",
   "metadata": {},
   "outputs": [],
   "source": [
    "\n",
    "class DataIngestion:\n",
    "    def __init__(self, config: DataIngestionConfig):\n",
    "        self.config = config\n",
    "\n",
    "    def download_file(self) -> str:\n",
    "        \"\"\"\n",
    "        Fetch data from url.\n",
    "        \"\"\"\n",
    "        try:\n",
    "            dataset_url = self.config.source_url\n",
    "            zip_download_dir = self.config.local_data_file\n",
    "            os.makedirs(\"artifacts/data_ingestion\", exist_ok=True)\n",
    "            logging.info(f\"Downloading data from {dataset_url} into file {zip_download_dir}\")\n",
    "\n",
    "            file_id = dataset_url.split(\"/\")[-2]\n",
    "            prefix = 'https://drive.google.com/uc?/export=download&id='\n",
    "            gdown.download(prefix+file_id, zip_download_dir)\n",
    "\n",
    "            logging.info(f\"Download data from {dataset_url} into file {zip_download_dir}\")\n",
    "        except Exception as e:\n",
    "            raise MyException(e, sys) from e\n",
    "    \n",
    "    def extract_zip_file(self) -> None:\n",
    "        \"\"\"\n",
    "        Extracts the zip file into the data directory.\n",
    "        \"\"\"\n",
    "        unzip_path = self.config.unzip_dir\n",
    "        os.makedirs(unzip_path, exist_ok=True)\n",
    "        with zipfile.ZipFile(self.config.local_data_file, \"r\") as zip_ref:\n",
    "            zip_ref.extractall(unzip_path)\n",
    "        "
   ]
  },
  {
   "cell_type": "code",
   "execution_count": 9,
   "id": "5a6ba4d6",
   "metadata": {},
   "outputs": [
    {
     "name": "stderr",
     "output_type": "stream",
     "text": [
      "[ 2025-06-22 14:28:03,325 ] INFO - common - yaml file: config\\config.yaml loaded successfully.\n",
      "[ 2025-06-22 14:28:03,328 ] INFO - common - yaml file: params.yaml loaded successfully.\n",
      "[ 2025-06-22 14:28:03,334 ] INFO - common - Created directory at: artifacts\n",
      "[ 2025-06-22 14:28:03,341 ] INFO - common - Created directory at: artifacts/data_ingestion\n",
      "[ 2025-06-22 14:28:03,344 ] INFO - 3566406573 - Downloading data from https://drive.google.com/file/d/1vlhZ5c7abUKF8xXERIw6m9Te8fW7ohw3/view?usp=sharing into file artifacts/data_ingestion/data.zip\n",
      "[ 2025-06-22 14:28:03,389 ] DEBUG - connectionpool - Starting new HTTPS connection (1): drive.google.com:443\n",
      "[ 2025-06-22 14:28:04,696 ] DEBUG - connectionpool - https://drive.google.com:443 \"GET /uc?/export=download&id=1vlhZ5c7abUKF8xXERIw6m9Te8fW7ohw3 HTTP/1.1\" 200 None\n",
      "[ 2025-06-22 14:28:05,273 ] DEBUG - connectionpool - https://drive.google.com:443 \"GET /uc?%2Fexport=download&id=1vlhZ5c7abUKF8xXERIw6m9Te8fW7ohw3&confirm=t&uuid=a53817db-7543-45eb-b686-f26548917fa8 HTTP/1.1\" 303 0\n",
      "[ 2025-06-22 14:28:05,290 ] DEBUG - connectionpool - Starting new HTTPS connection (1): doc-0g-3k-docs.googleusercontent.com:443\n",
      "[ 2025-06-22 14:28:07,043 ] DEBUG - connectionpool - https://doc-0g-3k-docs.googleusercontent.com:443 \"GET /docs/securesc/ha0ro937gcuc7l7deffksulhg5h7mbp1/ru6b3ctaq7hsc4uuif8mi5bg8pqep48j/1750582650000/03596185573253187741/*/1vlhZ5c7abUKF8xXERIw6m9Te8fW7ohw3?uuid=a53817db-7543-45eb-b686-f26548917fa8 HTTP/1.1\" 200 57713952\n",
      "Downloading...\n",
      "From (original): https://drive.google.com/uc?/export=download&id=1vlhZ5c7abUKF8xXERIw6m9Te8fW7ohw3\n",
      "From (redirected): https://drive.google.com/uc?%2Fexport=download&id=1vlhZ5c7abUKF8xXERIw6m9Te8fW7ohw3&confirm=t&uuid=a53817db-7543-45eb-b686-f26548917fa8\n",
      "To: c:\\Users\\ASUS\\Desktop\\ML-OPs\\Kidney-Disease-Classification\\artifacts\\data_ingestion\\data.zip\n",
      "100%|██████████| 57.7M/57.7M [00:19<00:00, 2.97MB/s]\n",
      "[ 2025-06-22 14:28:26,484 ] INFO - 3566406573 - Download data from https://drive.google.com/file/d/1vlhZ5c7abUKF8xXERIw6m9Te8fW7ohw3/view?usp=sharing into file artifacts/data_ingestion/data.zip\n"
     ]
    }
   ],
   "source": [
    "try:\n",
    "    config = ConfigurationManager()\n",
    "    data_ingestion_config = config.get_data_ingestion_config()\n",
    "    data_ingestion = DataIngestion(config=data_ingestion_config)\n",
    "    data_ingestion.download_file()\n",
    "    data_ingestion.extract_zip_file()\n",
    "except Exception as e:\n",
    "    raise MyException(e, sys) from e"
   ]
  },
  {
   "cell_type": "code",
   "execution_count": null,
   "id": "5133df6f",
   "metadata": {},
   "outputs": [
    {
     "name": "stderr",
     "output_type": "stream",
     "text": [
      "[ 2025-06-22 14:28:27,401 ] INFO - common - Created directory at: artifact\n"
     ]
    }
   ],
   "source": []
  },
  {
   "cell_type": "code",
   "execution_count": null,
   "id": "e8d70bab",
   "metadata": {},
   "outputs": [],
   "source": []
  }
 ],
 "metadata": {
  "kernelspec": {
   "display_name": "kidney",
   "language": "python",
   "name": "python3"
  },
  "language_info": {
   "codemirror_mode": {
    "name": "ipython",
    "version": 3
   },
   "file_extension": ".py",
   "mimetype": "text/x-python",
   "name": "python",
   "nbconvert_exporter": "python",
   "pygments_lexer": "ipython3",
   "version": "3.10.18"
  }
 },
 "nbformat": 4,
 "nbformat_minor": 5
}
