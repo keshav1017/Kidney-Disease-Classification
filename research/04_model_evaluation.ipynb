{
 "cells": [
  {
   "cell_type": "code",
   "execution_count": 37,
   "id": "f7295486",
   "metadata": {},
   "outputs": [],
   "source": [
    "import os\n",
    "import tensorflow as tf\n",
    "from dotenv import load_dotenv"
   ]
  },
  {
   "cell_type": "code",
   "execution_count": 2,
   "id": "0bf97519",
   "metadata": {},
   "outputs": [
    {
     "data": {
      "text/plain": [
       "'c:\\\\Users\\\\ASUS\\\\Desktop\\\\ML-OPs\\\\Kidney-Disease-Classification\\\\research'"
      ]
     },
     "execution_count": 2,
     "metadata": {},
     "output_type": "execute_result"
    }
   ],
   "source": [
    "%pwd"
   ]
  },
  {
   "cell_type": "code",
   "execution_count": 3,
   "id": "b6750bdd",
   "metadata": {},
   "outputs": [],
   "source": [
    "os.chdir(\"../\")"
   ]
  },
  {
   "cell_type": "code",
   "execution_count": 4,
   "id": "b5da9c60",
   "metadata": {},
   "outputs": [
    {
     "data": {
      "text/plain": [
       "'c:\\\\Users\\\\ASUS\\\\Desktop\\\\ML-OPs\\\\Kidney-Disease-Classification'"
      ]
     },
     "execution_count": 4,
     "metadata": {},
     "output_type": "execute_result"
    }
   ],
   "source": [
    "%pwd"
   ]
  },
  {
   "cell_type": "code",
   "execution_count": 38,
   "id": "a26b4584",
   "metadata": {},
   "outputs": [
    {
     "data": {
      "text/plain": [
       "True"
      ]
     },
     "execution_count": 38,
     "metadata": {},
     "output_type": "execute_result"
    }
   ],
   "source": [
    "load_dotenv()"
   ]
  },
  {
   "cell_type": "code",
   "execution_count": null,
   "id": "1f9b5b92",
   "metadata": {},
   "outputs": [],
   "source": [
    "os.environ[\"MLFLOW_TRACKING_URI\"] = os.getenv(\"MLFLOW_TRACKING_URI\")\n",
    "os.environ[\"MLFLOW_TRACKING_USERNAME\"] = os.getenv(\"MLFLOW_TRACKING_USERNAME\")\n",
    "os.environ[\"MLFLOW_TRACKING_PASSWORD\"] = os.getenv(\"MLFLOW_TRACKING_PASSWORD\")"
   ]
  },
  {
   "cell_type": "code",
   "execution_count": 14,
   "id": "9fe111f4",
   "metadata": {},
   "outputs": [],
   "source": [
    "model = tf.keras.models.load_model(\"./artifacts/training/model.h5\")"
   ]
  },
  {
   "cell_type": "code",
   "execution_count": 15,
   "id": "707b5974",
   "metadata": {},
   "outputs": [],
   "source": [
    "from dataclasses import dataclass\n",
    "from pathlib import Path\n",
    "\n",
    "@dataclass(frozen=True)\n",
    "class EvaluationConfig:\n",
    "    path_to_model: Path\n",
    "    training_data: Path\n",
    "    all_params: dict\n",
    "    mlflow_uri: str\n",
    "    params_image_size: list\n",
    "    params_batch_size: int"
   ]
  },
  {
   "cell_type": "code",
   "execution_count": 28,
   "id": "3c285af9",
   "metadata": {},
   "outputs": [],
   "source": [
    "from cnnClassifier.constants import *\n",
    "from cnnClassifier.utils.common import read_yaml, create_directories, save_json"
   ]
  },
  {
   "cell_type": "code",
   "execution_count": 33,
   "id": "e0ae37ea",
   "metadata": {},
   "outputs": [],
   "source": [
    "class ConfigurationManager:\n",
    "    def __init__(self,\n",
    "                 config_filepath = CONFIG_FILE_PATH,\n",
    "                 params_filepath = PARAMS_FILE_PATH):\n",
    "\n",
    "        self.config = read_yaml(config_filepath)\n",
    "        self.params = read_yaml(params_filepath)\n",
    "\n",
    "        create_directories([self.config.artifact_root])\n",
    "\n",
    "    def get_evaluation_config(self) -> EvaluationConfig:\n",
    "        eval_config = EvaluationConfig(\n",
    "            path_to_model=\"./artifacts/training/model.h5\",\n",
    "            training_data=\"./artifacts/data_ingestion/kidney-ct-scan-image\",\n",
    "            mlflow_uri=\"https://dagshub.com/keshav1017/Kidney-Disease-Classification.mlflow/\",\n",
    "            all_params=self.params,\n",
    "            params_image_size=self.params.IMAGE_SIZE,\n",
    "            params_batch_size=self.params.BATCH_SIZE,\n",
    "        )\n",
    "\n",
    "        return eval_config"
   ]
  },
  {
   "cell_type": "code",
   "execution_count": 30,
   "id": "c32f058a",
   "metadata": {},
   "outputs": [],
   "source": [
    "import mlflow\n",
    "import mlflow.keras\n",
    "from urllib.parse import urlparse"
   ]
  },
  {
   "cell_type": "code",
   "execution_count": 34,
   "id": "2e8dd435",
   "metadata": {},
   "outputs": [],
   "source": [
    "class Evaluation:\n",
    "    def __init__(self, config: EvaluationConfig):\n",
    "        self.config = config\n",
    "\n",
    "    def _valid_generator(self):\n",
    "        datagenerator_kwargs = dict(\n",
    "            rescale=1.0 / 225, \n",
    "            validation_split=0.20\n",
    "        )\n",
    "\n",
    "        dataflow_kwargs = dict(\n",
    "            target_size=self.config.params_image_size[:-1],\n",
    "            batch_size=self.config.params_batch_size,\n",
    "            interpolation=\"bilinear\",\n",
    "        )\n",
    "\n",
    "        valid_datagenerator = tf.keras.preprocessing.image.ImageDataGenerator(\n",
    "            **datagenerator_kwargs\n",
    "        )\n",
    "\n",
    "        self.valid_generator = valid_datagenerator.flow_from_directory(\n",
    "            directory=self.config.training_data,\n",
    "            subset=\"validation\",\n",
    "            shuffle=False,\n",
    "            **dataflow_kwargs\n",
    "        )\n",
    "\n",
    "    @staticmethod\n",
    "    def load_model(path: Path) -> tf.keras.Model:\n",
    "        return tf.keras.models.load_model(path)\n",
    "        \n",
    "    def evaluate(self):\n",
    "        self.model = self.load_model(self.config.path_to_model)\n",
    "        self._valid_generator()\n",
    "        self.score = model.evaluate(self.valid_generator)\n",
    "        self.save_score()\n",
    "    \n",
    "    def save_score(self):\n",
    "        scores = {\"loss\": self.score[0], \"accuracy\": self.score[1]}\n",
    "        save_json(path=Path(\"./results/scores.json\"), data=scores)\n",
    "    \n",
    "    def log_into_mlflow(self):\n",
    "        mlflow.set_tracking_uri(self.config.mlflow_uri)\n",
    "        tracking_url_type_store = urlparse(mlflow.get_tracking_uri()).scheme\n",
    "\n",
    "        with mlflow.start_run():\n",
    "            mlflow.log_params(self.config.all_params)\n",
    "            mlflow.log_metrics(\n",
    "                {\"loss\": self.score[0], \"accuracy\": self.score[1]}\n",
    "            )\n",
    "\n",
    "            # model registry does not work with file store\n",
    "            if tracking_url_type_store != \"file\":\n",
    "                # register the model\n",
    "                mlflow.keras.log_model(self.model, artifact_path=\"model\", registered_model_name=\"VGG16Model\")\n",
    "            else:\n",
    "                mlflow.keras.log_model(self.model)"
   ]
  },
  {
   "cell_type": "code",
   "execution_count": 35,
   "id": "a0192a9e",
   "metadata": {},
   "outputs": [
    {
     "name": "stderr",
     "output_type": "stream",
     "text": [
      "[ 2025-06-27 16:44:04,685 ] INFO - common - yaml file: config\\config.yaml loaded successfully.\n",
      "[ 2025-06-27 16:44:04,700 ] INFO - common - yaml file: params.yaml loaded successfully.\n",
      "[ 2025-06-27 16:44:04,705 ] INFO - common - Created directory at: artifacts\n"
     ]
    },
    {
     "name": "stdout",
     "output_type": "stream",
     "text": [
      "Found 93 images belonging to 2 classes.\n",
      "6/6 [==============================] - 21s 3s/step - loss: 3.1566 - accuracy: 0.6237\n"
     ]
    },
    {
     "name": "stderr",
     "output_type": "stream",
     "text": [
      "[ 2025-06-27 16:44:26,722 ] INFO - common - json file saved at results\\scores.json\n",
      "[ 2025-06-27 16:44:27,205 ] DEBUG - connectionpool - https://dagshub.com:443 \"POST /keshav1017/Kidney-Disease-Classification.mlflow/api/2.0/mlflow/runs/create HTTP/1.1\" 200 None\n",
      "[ 2025-06-27 16:44:27,650 ] DEBUG - connectionpool - https://dagshub.com:443 \"POST /keshav1017/Kidney-Disease-Classification.mlflow/api/2.0/mlflow/runs/log-batch HTTP/1.1\" 200 None\n",
      "[ 2025-06-27 16:44:28,106 ] DEBUG - connectionpool - https://dagshub.com:443 \"POST /keshav1017/Kidney-Disease-Classification.mlflow/api/2.0/mlflow/runs/log-batch HTTP/1.1\" 200 None\n",
      "2025/06/27 16:44:28 WARNING mlflow.tensorflow: You are saving a TensorFlow Core model or Keras model without a signature. Inference with mlflow.pyfunc.spark_udf() will not work unless the model's pyfunc representation accepts pandas DataFrames as inference inputs.\n",
      "[ 2025-06-27 16:44:31,341 ] WARNING - save - Found untraced functions such as _jit_compiled_convolution_op, _jit_compiled_convolution_op, _jit_compiled_convolution_op, _jit_compiled_convolution_op, _jit_compiled_convolution_op while saving (showing 5 of 14). These functions will not be directly callable after loading.\n"
     ]
    },
    {
     "name": "stdout",
     "output_type": "stream",
     "text": [
      "INFO:tensorflow:Assets written to: C:\\Users\\ASUS\\AppData\\Local\\Temp\\tmpje8_ylrj\\model\\data\\model\\assets\n"
     ]
    },
    {
     "name": "stderr",
     "output_type": "stream",
     "text": [
      "[ 2025-06-27 16:44:32,786 ] INFO - builder_impl - Assets written to: C:\\Users\\ASUS\\AppData\\Local\\Temp\\tmpje8_ylrj\\model\\data\\model\\assets\n",
      "[ 2025-06-27 16:44:48,982 ] DEBUG - connectionpool - https://dagshub.com:443 \"GET /keshav1017/Kidney-Disease-Classification.mlflow/api/2.0/mlflow/runs/get?run_uuid=80509f7bc6244fde9c311102bb469fa9&run_id=80509f7bc6244fde9c311102bb469fa9 HTTP/1.1\" 200 None\n",
      "[ 2025-06-27 16:44:49,601 ] DEBUG - connectionpool - https://dagshub.com:443 \"PUT /keshav1017/Kidney-Disease-Classification.mlflow/api/2.0/mlflow-artifacts/artifacts/0802a22972a14fbc92f13bcf6945481f/80509f7bc6244fde9c311102bb469fa9/artifacts/model/conda.yaml HTTP/1.1\" 200 None\n",
      "[ 2025-06-27 16:44:50,235 ] DEBUG - connectionpool - https://dagshub.com:443 \"PUT /keshav1017/Kidney-Disease-Classification.mlflow/api/2.0/mlflow-artifacts/artifacts/0802a22972a14fbc92f13bcf6945481f/80509f7bc6244fde9c311102bb469fa9/artifacts/model/MLmodel HTTP/1.1\" 200 None\n",
      "[ 2025-06-27 16:44:50,829 ] DEBUG - connectionpool - https://dagshub.com:443 \"PUT /keshav1017/Kidney-Disease-Classification.mlflow/api/2.0/mlflow-artifacts/artifacts/0802a22972a14fbc92f13bcf6945481f/80509f7bc6244fde9c311102bb469fa9/artifacts/model/python_env.yaml HTTP/1.1\" 200 None\n",
      "[ 2025-06-27 16:44:51,456 ] DEBUG - connectionpool - https://dagshub.com:443 \"PUT /keshav1017/Kidney-Disease-Classification.mlflow/api/2.0/mlflow-artifacts/artifacts/0802a22972a14fbc92f13bcf6945481f/80509f7bc6244fde9c311102bb469fa9/artifacts/model/requirements.txt HTTP/1.1\" 200 None\n",
      "[ 2025-06-27 16:44:52,169 ] DEBUG - connectionpool - https://dagshub.com:443 \"PUT /keshav1017/Kidney-Disease-Classification.mlflow/api/2.0/mlflow-artifacts/artifacts/0802a22972a14fbc92f13bcf6945481f/80509f7bc6244fde9c311102bb469fa9/artifacts/model/data/keras_module.txt HTTP/1.1\" 200 None\n",
      "[ 2025-06-27 16:44:52,772 ] DEBUG - connectionpool - https://dagshub.com:443 \"PUT /keshav1017/Kidney-Disease-Classification.mlflow/api/2.0/mlflow-artifacts/artifacts/0802a22972a14fbc92f13bcf6945481f/80509f7bc6244fde9c311102bb469fa9/artifacts/model/data/save_format.txt HTTP/1.1\" 200 None\n",
      "[ 2025-06-27 16:44:53,583 ] DEBUG - connectionpool - https://dagshub.com:443 \"PUT /keshav1017/Kidney-Disease-Classification.mlflow/api/2.0/mlflow-artifacts/artifacts/0802a22972a14fbc92f13bcf6945481f/80509f7bc6244fde9c311102bb469fa9/artifacts/model/data/model/fingerprint.pb HTTP/1.1\" 200 None\n",
      "[ 2025-06-27 16:44:54,648 ] DEBUG - connectionpool - https://dagshub.com:443 \"PUT /keshav1017/Kidney-Disease-Classification.mlflow/api/2.0/mlflow-artifacts/artifacts/0802a22972a14fbc92f13bcf6945481f/80509f7bc6244fde9c311102bb469fa9/artifacts/model/data/model/keras_metadata.pb HTTP/1.1\" 200 None\n",
      "[ 2025-06-27 16:44:56,276 ] DEBUG - connectionpool - https://dagshub.com:443 \"PUT /keshav1017/Kidney-Disease-Classification.mlflow/api/2.0/mlflow-artifacts/artifacts/0802a22972a14fbc92f13bcf6945481f/80509f7bc6244fde9c311102bb469fa9/artifacts/model/data/model/saved_model.pb HTTP/1.1\" 200 None\n",
      "[ 2025-06-27 16:46:38,839 ] DEBUG - connectionpool - https://dagshub.com:443 \"PUT /keshav1017/Kidney-Disease-Classification.mlflow/api/2.0/mlflow-artifacts/artifacts/0802a22972a14fbc92f13bcf6945481f/80509f7bc6244fde9c311102bb469fa9/artifacts/model/data/model/variables/variables.data-00000-of-00001 HTTP/1.1\" 200 None\n",
      "[ 2025-06-27 16:46:39,494 ] DEBUG - connectionpool - https://dagshub.com:443 \"PUT /keshav1017/Kidney-Disease-Classification.mlflow/api/2.0/mlflow-artifacts/artifacts/0802a22972a14fbc92f13bcf6945481f/80509f7bc6244fde9c311102bb469fa9/artifacts/model/data/model/variables/variables.index HTTP/1.1\" 200 None\n",
      "[ 2025-06-27 16:46:40,098 ] DEBUG - connectionpool - https://dagshub.com:443 \"POST /keshav1017/Kidney-Disease-Classification.mlflow/api/2.0/mlflow/runs/log-model HTTP/1.1\" 200 None\n",
      "[ 2025-06-27 16:46:40,672 ] DEBUG - connectionpool - https://dagshub.com:443 \"POST /keshav1017/Kidney-Disease-Classification.mlflow/api/2.0/mlflow/registered-models/create HTTP/1.1\" 400 None\n",
      "Registered model 'VGG16Model' already exists. Creating a new version of this model...\n",
      "[ 2025-06-27 16:46:41,128 ] DEBUG - connectionpool - https://dagshub.com:443 \"GET /keshav1017/Kidney-Disease-Classification.mlflow/api/2.0/mlflow/runs/get?run_uuid=80509f7bc6244fde9c311102bb469fa9&run_id=80509f7bc6244fde9c311102bb469fa9 HTTP/1.1\" 200 None\n",
      "[ 2025-06-27 16:46:41,865 ] DEBUG - connectionpool - https://dagshub.com:443 \"POST /keshav1017/Kidney-Disease-Classification.mlflow/api/2.0/mlflow/model-versions/create HTTP/1.1\" 200 None\n",
      "2025/06/27 16:46:41 INFO mlflow.tracking._model_registry.client: Waiting up to 300 seconds for model version to finish creation.                     Model name: VGG16Model, version 3\n",
      "Created version '3' of model 'VGG16Model'.\n",
      "[ 2025-06-27 16:46:42,373 ] DEBUG - connectionpool - https://dagshub.com:443 \"POST /keshav1017/Kidney-Disease-Classification.mlflow/api/2.0/mlflow/runs/update HTTP/1.1\" 200 None\n"
     ]
    }
   ],
   "source": [
    "try:\n",
    "    config = ConfigurationManager()\n",
    "    eval_config = config.get_evaluation_config()\n",
    "    evaluation = Evaluation(eval_config)\n",
    "    evaluation.evaluate()\n",
    "    evaluation.log_into_mlflow()\n",
    "\n",
    "except Exception as e:\n",
    "    raise e"
   ]
  },
  {
   "cell_type": "code",
   "execution_count": null,
   "id": "f0c52a98",
   "metadata": {},
   "outputs": [],
   "source": []
  }
 ],
 "metadata": {
  "kernelspec": {
   "display_name": "kidney",
   "language": "python",
   "name": "python3"
  },
  "language_info": {
   "codemirror_mode": {
    "name": "ipython",
    "version": 3
   },
   "file_extension": ".py",
   "mimetype": "text/x-python",
   "name": "python",
   "nbconvert_exporter": "python",
   "pygments_lexer": "ipython3",
   "version": "3.10.18"
  }
 },
 "nbformat": 4,
 "nbformat_minor": 5
}
